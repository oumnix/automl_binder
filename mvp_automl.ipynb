{
 "cells": [
  {
   "cell_type": "markdown",
   "id": "13dd8579",
   "metadata": {},
   "source": [
    "<img src=\"./qarnot_ligne.png\" \n",
    "     width=\"30%\" \n",
    "     align=right\n",
    "     alt=\"Dask logo\">\n",
    "     \n",
    "\n",
    "# MVP AutoML"
   ]
  },
  {
   "cell_type": "markdown",
   "id": "830d5f8e",
   "metadata": {},
   "source": [
    "## Add your Qarnot token"
   ]
  },
  {
   "cell_type": "code",
   "execution_count": 1,
   "id": "096c9ef5",
   "metadata": {},
   "outputs": [],
   "source": [
    "import os\n",
    "import io\n",
    "import pandas as pd\n",
    "import ipywidgets as widgets\n",
    "from tkinter import Tk, filedialog\n",
    "from IPython.display import clear_output, display, HTML"
   ]
  },
  {
   "cell_type": "code",
   "execution_count": 2,
   "id": "a484562f",
   "metadata": {},
   "outputs": [
    {
     "data": {
      "application/vnd.jupyter.widget-view+json": {
       "model_id": "0da9e46215d1428587c9e99a3b93825a",
       "version_major": 2,
       "version_minor": 0
      },
      "text/plain": [
       "Password(description='Qarnot token:', placeholder='Enter token')"
      ]
     },
     "metadata": {},
     "output_type": "display_data"
    }
   ],
   "source": [
    "token = widgets.Password(\n",
    "    placeholder='Enter token',\n",
    "    description='Qarnot token:',\n",
    "    disabled=False\n",
    ")\n",
    "display(token)"
   ]
  },
  {
   "cell_type": "markdown",
   "id": "1713b7a8",
   "metadata": {},
   "source": [
    "# Upload your data to binder "
   ]
  },
  {
   "cell_type": "code",
   "execution_count": 3,
   "id": "07585a3f",
   "metadata": {},
   "outputs": [
    {
     "data": {
      "application/vnd.jupyter.widget-view+json": {
       "model_id": "56154519490947b099dc1fb5722afe26",
       "version_major": 2,
       "version_minor": 0
      },
      "text/plain": [
       "FileUpload(value={}, accept='.csv', description='Upload')"
      ]
     },
     "metadata": {},
     "output_type": "display_data"
    }
   ],
   "source": [
    "file = widgets.FileUpload(\n",
    "    accept='.csv',  # Accepted file extension e.g. '.txt', '.pdf', 'image/*', 'image/*,.pdf'\n",
    "    multiple=False  # True to accept multiple files upload else False\n",
    ")\n",
    "display(file)"
   ]
  },
  {
   "cell_type": "markdown",
   "id": "673de817",
   "metadata": {},
   "source": [
    "## Specify Autosklearn training parameters\n",
    "\n",
    "* Only the first two field, *Target Column* and *Positive Label*, are required so make sure to upload your data file and re-run the cell below. The rest are optional and have default values.\n",
    "\n",
    "* Multiple values can be selected, for the lists of estimators and preprocessors to include/exclude, with <kbd>shift</kbd> and/or <kbd>ctrl</kbd> (or <kbd>command</kbd>) pressed and mouse clicks or arrow keys.\n",
    "\n",
    "    > Note that the include and exclude parameters are incompatible with each other. Meaning that only one should be set .i.e you cannot include and exclude the same estimator.\n",
    "\n",
    "* You can check out the [Auto-sklearn documentation](https://automl.github.io/auto-sklearn/master/manual.html) for more info."
   ]
  },
  {
   "cell_type": "code",
   "execution_count": 4,
   "id": "968cabd1",
   "metadata": {},
   "outputs": [],
   "source": [
    "estimators = [\n",
    "    ('Default', 'None'),('Adaboost', 'adaboost'), ('Bernoulli Naive Bayes', 'bernoulli_nb'),\n",
    "    ('Decision Tree', 'decision_tree'), ('Extra Trees', 'extra_trees'), ('Gaussian Naive Bayes', 'gaussian_nb'),\n",
    "    ('Gradient Boosting', 'gradient_boosting'), ('K Nearest Neighbors', 'k_nearest_neighbors'), ('LDA', 'lda'),\n",
    "    ('Linear SVC', 'liblinear_svc'), ('SVM SVC', 'libsvm_svc'), ('MLP', 'mlp'), \n",
    "    ('Multinominal Naive Bayes', 'multinomial_nb'), ('Passive Aggressive', 'passive_aggressive'), \n",
    "    ('QDA', 'qda'), ('Random Forest', 'random_forest'), ('SGD', 'sgd')\n",
    "]\n",
    "\n",
    "preprocessors = [\n",
    "    ('Default', 'None'), ('Balancing', 'balancing'),('Extra Trees', 'extra_trees_preproc_for_classification'), \n",
    "    ('Fast ICA', 'fast_ica'), ('Feature Agglomeration','feature_agglomeration'), ('Kernel PCA', 'kernel_pca'),\n",
    "    ('Kitchen Sinks', 'kitchen_sinks'), ('Linear SVM preprocessor', 'liblinear_svc_preprocessor'),\n",
    "    ('No Preporcessing', 'no_preprocessor'), ('Nystroem Sampler', 'nystroem_sampler'), \n",
    "    ('One Hot Encoding', 'one_hot_encoding'), ('PCA', 'pca'), ('Polynomial', 'polynomial'),\n",
    "    ('Random Trees Embedding', 'random_trees_embedding'), ('Select Percentile', 'select_percentile'), \n",
    "    ('Select Rates', 'select_rates_classification')\n",
    "]"
   ]
  },
  {
   "cell_type": "code",
   "execution_count": 5,
   "id": "24cf95e3",
   "metadata": {
    "scrolled": false
   },
   "outputs": [
    {
     "data": {
      "application/vnd.jupyter.widget-view+json": {
       "model_id": "4ced14dec11049ecbb7d03a6953ca417",
       "version_major": 2,
       "version_minor": 0
      },
      "text/plain": [
       "Box(children=(Box(children=(HTML(value='<b><font color=#f39c12>Import file and re-run cell</b>'),), layout=Lay…"
      ]
     },
     "metadata": {},
     "output_type": "display_data"
    }
   ],
   "source": [
    "from ipywidgets import Layout, Button, Box, Label, BoundedIntText, IntSlider, Dropdown, SelectMultiple\n",
    "\n",
    "form_item_layout = Layout(\n",
    "    display='flex',\n",
    "    flex_flow='row',\n",
    "    justify_content='space-between'\n",
    ")\n",
    "\n",
    "form_items = [\n",
    "    Box([Label(value='Number of nodes in cluster:'),\n",
    "        IntSlider(value=3,min=2,max=20,step=1)], layout=form_item_layout),\n",
    "    Box([Label(value='Total training time (min):'), \n",
    "         BoundedIntText(value=15, min=0)], layout=form_item_layout),\n",
    "    Box([Label(value='Per run training time (min):'), \n",
    "         BoundedIntText(value=5, min=0)], layout=form_item_layout),\n",
    "    Box([Label(value='Number of cross validation folds:'),\n",
    "        IntSlider(value=3,min=2,max=10,step=1)], layout=form_item_layout),\n",
    "    Box([Label(value='Maximum ensemble size:'),\n",
    "        BoundedIntText(value=50, min=1)], layout=form_item_layout),\n",
    "    Box([Label(value='Ensemble nbest:'),\n",
    "        BoundedIntText(value=50, min=0)], layout=form_item_layout),\n",
    "    Box([Label(value='Include Estimators and Preprocessors:'),\n",
    "        SelectMultiple(options=estimators,value=['None']),\n",
    "        SelectMultiple(options=preprocessors,value=['None'])], layout=form_item_layout),\n",
    "    Box([Label(value='Exclude Estimators and Preprocessors:'),\n",
    "        SelectMultiple(options=estimators,value=['None']),\n",
    "        SelectMultiple(options=preprocessors,value=['None'])], layout=form_item_layout)\n",
    "]\n",
    "\n",
    "if len(file.value)==0:\n",
    "    target_col = Box([widgets.HTML(value = f\"<b><font color=#f39c12>{'Import file and re-run cell'}</b>\")],\n",
    "                    layout=form_item_layout)\n",
    "else:\n",
    "    # create input folder\n",
    "    ! mkdir -p input_binder/\n",
    "    \n",
    "    # write uploaded data file to input\n",
    "    data = pd.read_csv(io.BytesIO(file.value[list(file.value)[0]]['content']))\n",
    "    data.to_csv('input_binder/data.csv')\n",
    "    \n",
    "    target_col = Box([Label(value='Target column for classification:'),\n",
    "                      Dropdown(options=data.columns)], layout=form_item_layout)\n",
    "    \n",
    "    labels = data['class'].unique()\n",
    "    if len(labels) == 2:\n",
    "        label_list = Box([Label(value='Positive Label:'),\n",
    "                          Dropdown(options=labels)], layout=form_item_layout)\n",
    "        form_items.insert(0, label_list)\n",
    "\n",
    "form_items.insert(0, target_col)\n",
    "\n",
    "form = Box(form_items, layout=Layout(\n",
    "    display='flex',\n",
    "    flex_flow='column',\n",
    "    align_items='stretch',\n",
    "    width='100%'\n",
    "))\n",
    "form"
   ]
  },
  {
   "cell_type": "markdown",
   "id": "ecdef124",
   "metadata": {},
   "source": [
    "## Launch the Qarnot computation"
   ]
  },
  {
   "cell_type": "code",
   "execution_count": 6,
   "id": "7838c103",
   "metadata": {
    "scrolled": true
   },
   "outputs": [
    {
     "data": {
      "application/vnd.jupyter.widget-view+json": {
       "model_id": "6b91c90509bb4b7b92093eb1f800f8ad",
       "version_major": 2,
       "version_minor": 0
      },
      "text/plain": [
       "Button(description='Start Training on Qarnot!', layout=Layout(width='auto'), style=ButtonStyle())"
      ]
     },
     "metadata": {},
     "output_type": "display_data"
    },
    {
     "data": {
      "application/vnd.jupyter.widget-view+json": {
       "model_id": "6523f93b7d8e4144a395d81a6bf30bd1",
       "version_major": 2,
       "version_minor": 0
      },
      "text/plain": [
       "Output()"
      ]
     },
     "metadata": {},
     "output_type": "display_data"
    }
   ],
   "source": [
    "from run_qarnot import submit_task\n",
    "from ipywidgets import Output\n",
    "\n",
    "button = Button(description=\"Start Training on Qarnot!\", layout=Layout(width='auto'))\n",
    "output = Output()\n",
    "display(button, output)\n",
    "\n",
    "def on_button_clicked(b):\n",
    "    \n",
    "    # Dictionary for data storage\n",
    "    param_dict = {\n",
    "        'token':'', 'target':'', 'pos_label':'', 'nodes':'', 'total_time':'', 'per_run_time':'', 'cv':'', \n",
    "        'ensemble_size':'', 'ensemble_nbest':'', 'incl_estim':(), 'incl_preproc':(), 'excl_estim':(), \n",
    "        'excl_preproc':()\n",
    "    }\n",
    "    param_list = list(param_dict)\n",
    "    \n",
    "    # Retrieve data from form in dictionary\n",
    "    param_dict['token'] = token.value\n",
    "    for _, (key, elem) in enumerate(zip(param_list[1:-4], form.children[:-2])):\n",
    "        param_dict[key] = str(elem.children[1].value)\n",
    "    for _, (key, elem) in enumerate(zip(param_list[-4:-2], form.children[-2].children[1:])):\n",
    "        param_dict[key] = elem.value\n",
    "    for _, (key, elem) in enumerate(zip(param_list[-2:], form.children[-1].children[1:])):\n",
    "        param_dict[key] = elem.value\n",
    "    \n",
    "    # Launch computation\n",
    "    output.clear_output()\n",
    "    with output:\n",
    "        try:\n",
    "            ! mkdir -p logs/ output_binder\n",
    "            submit_task(param_dict)\n",
    "\n",
    "        except AttributeError:\n",
    "            print(\"Some fields were not properly filled\") \n",
    "        \n",
    "button.on_click(on_button_clicked)"
   ]
  },
  {
   "cell_type": "markdown",
   "id": "65bf8e38",
   "metadata": {},
   "source": [
    "## Display outputs"
   ]
  },
  {
   "cell_type": "code",
   "execution_count": 7,
   "id": "3187259a",
   "metadata": {},
   "outputs": [
    {
     "data": {
      "application/vnd.jupyter.widget-view+json": {
       "model_id": "894082e8fe994171a050955c9aa3a9e6",
       "version_major": 2,
       "version_minor": 0
      },
      "text/plain": [
       "Button(description='Display outputs', layout=Layout(width='auto'), style=ButtonStyle())"
      ]
     },
     "metadata": {},
     "output_type": "display_data"
    },
    {
     "data": {
      "application/vnd.jupyter.widget-view+json": {
       "model_id": "d77f09cf5edc4d88848fe8c6000b19c1",
       "version_major": 2,
       "version_minor": 0
      },
      "text/plain": [
       "Output()"
      ]
     },
     "metadata": {},
     "output_type": "display_data"
    }
   ],
   "source": [
    "from ipywidgets import HBox, VBox, Image\n",
    "\n",
    "output_button = Button(description=\"Display outputs\", layout=Layout(width='auto'))\n",
    "image_output = Output()\n",
    "display(output_button, image_output)\n",
    "\n",
    "def on_output_button_clicked(b):\n",
    "    \n",
    "    image_output.clear_output()\n",
    "    with image_output:\n",
    "        try:\n",
    "            vb = VBox()\n",
    "            title = widgets.HTML(value='<{size}>AutoML results</{size}>'.format(size='h3'))\n",
    "            vb.layout.align_items = 'center'\n",
    "            # Read images from file\n",
    "            img1 = open('output_binder/confusion_matrix.png', 'rb').read()\n",
    "            img2 = open('output_binder/acc_over_time.png', 'rb').read()\n",
    "            # Set image variable, image format and dimension.\n",
    "            wi1 = Image(value=img1, format='png', width=500, height=500)\n",
    "            wi2 = Image(value=img2, format='png', width=450, height=500)\n",
    "            # Side by side display\n",
    "            images = HBox([wi1, wi2])\n",
    "            vb.children = [title, images]\n",
    "            display(vb)\n",
    "\n",
    "        except FileNotFoundError:\n",
    "            print(\"Result files not available\")\n",
    "        \n",
    "output_button.on_click(on_output_button_clicked)"
   ]
  },
  {
   "cell_type": "code",
   "execution_count": 8,
   "id": "77988a4d",
   "metadata": {},
   "outputs": [
    {
     "data": {
      "text/html": [
       "<script>\n",
       "code_show=true; \n",
       "function code_toggle() {\n",
       " if (code_show){\n",
       " $('div.input').hide();\n",
       " } else {\n",
       " $('div.input').show();\n",
       " }\n",
       " code_show = !code_show\n",
       "} \n",
       "$( document ).ready(code_toggle);\n",
       "</script>\n",
       "The raw code for this IPython notebook is by default hidden for easier reading.\n",
       "To toggle on/off the raw code, click <a href=\"javascript:code_toggle()\">here</a>."
      ],
      "text/plain": [
       "<IPython.core.display.HTML object>"
      ]
     },
     "execution_count": 8,
     "metadata": {},
     "output_type": "execute_result"
    }
   ],
   "source": [
    "HTML('''<script>\n",
    "code_show=true; \n",
    "function code_toggle() {\n",
    " if (code_show){\n",
    " $('div.input').hide();\n",
    " } else {\n",
    " $('div.input').show();\n",
    " }\n",
    " code_show = !code_show\n",
    "} \n",
    "$( document ).ready(code_toggle);\n",
    "</script>\n",
    "The raw code for this IPython notebook is by default hidden for easier reading.\n",
    "To toggle on/off the raw code, click <a href=\"javascript:code_toggle()\">here</a>.''')"
   ]
  }
 ],
 "metadata": {
  "interpreter": {
   "hash": "0fbb9f8e195abe53174c0f9ec17e4383ade7781b5f2b704a51557b556b0f1aa0"
  },
  "kernelspec": {
   "display_name": "Python 3 (ipykernel)",
   "language": "python",
   "name": "python3"
  },
  "language_info": {
   "codemirror_mode": {
    "name": "ipython",
    "version": 3
   },
   "file_extension": ".py",
   "mimetype": "text/x-python",
   "name": "python",
   "nbconvert_exporter": "python",
   "pygments_lexer": "ipython3",
   "version": "3.8.5"
  },
  "widgets": {
   "application/vnd.jupyter.widget-state+json": {
    "state": {
     "05cc21c67b534ec8a8e582bee4057706": {
      "model_module": "@jupyter-widgets/controls",
      "model_module_version": "1.5.0",
      "model_name": "SliderStyleModel",
      "state": {
       "description_width": ""
      }
     },
     "0b6cd23c24ae42939d691ab87fdaf10e": {
      "model_module": "@jupyter-widgets/controls",
      "model_module_version": "1.5.0",
      "model_name": "BoxModel",
      "state": {
       "children": [
        "IPY_MODEL_766077fb6b8c462298655565baf2bf57",
        "IPY_MODEL_84251767fee049778c05b803aac2328a"
       ],
       "layout": "IPY_MODEL_53e73b0247fb49b89922a64625829d62"
      }
     },
     "0da9e46215d1428587c9e99a3b93825a": {
      "model_module": "@jupyter-widgets/controls",
      "model_module_version": "1.5.0",
      "model_name": "PasswordModel",
      "state": {
       "description": "Qarnot token:",
       "layout": "IPY_MODEL_d31b0d9f4a5a452f889c935527e60b42",
       "placeholder": "Enter token",
       "style": "IPY_MODEL_8566b3d961a94cdeb7667bd0bae0f77d"
      }
     },
     "0f04e340a5e44216b6d1fc852cbee80d": {
      "model_module": "@jupyter-widgets/controls",
      "model_module_version": "1.5.0",
      "model_name": "BoundedIntTextModel",
      "state": {
       "layout": "IPY_MODEL_4ac6c70d80684f4690c31607da6cebfd",
       "style": "IPY_MODEL_21912f609e3c41e3b6b622f0cb42045b",
       "value": 15
      }
     },
     "10a3d1cd1c9d40aab7b66f8950463c4e": {
      "model_module": "@jupyter-widgets/base",
      "model_module_version": "1.2.0",
      "model_name": "LayoutModel",
      "state": {}
     },
     "1285b601bec54838b07e81344c872063": {
      "model_module": "@jupyter-widgets/base",
      "model_module_version": "1.2.0",
      "model_name": "LayoutModel",
      "state": {}
     },
     "13120af1900a4d1e8f26d34c23ca910a": {
      "model_module": "@jupyter-widgets/base",
      "model_module_version": "1.2.0",
      "model_name": "LayoutModel",
      "state": {}
     },
     "13a3a97795ff444b902e77284d37c66a": {
      "model_module": "@jupyter-widgets/controls",
      "model_module_version": "1.5.0",
      "model_name": "DescriptionStyleModel",
      "state": {
       "description_width": ""
      }
     },
     "16205c3ace5848c1be6b55efcd2d02d9": {
      "model_module": "@jupyter-widgets/controls",
      "model_module_version": "1.5.0",
      "model_name": "DescriptionStyleModel",
      "state": {
       "description_width": ""
      }
     },
     "1778a2abf7384830b2a04d75af58011a": {
      "model_module": "@jupyter-widgets/controls",
      "model_module_version": "1.5.0",
      "model_name": "LabelModel",
      "state": {
       "layout": "IPY_MODEL_6106ad1abc8640b59895e12afcc2dfbe",
       "style": "IPY_MODEL_9bc5b44d86904ff1a6da309a0274dc4b",
       "value": "Exclude Estimators and Preprocessors:"
      }
     },
     "1862460ff6c84c7aad2aa84346163c2e": {
      "model_module": "@jupyter-widgets/base",
      "model_module_version": "1.2.0",
      "model_name": "LayoutModel",
      "state": {}
     },
     "1a71b412fe8b497aa2e02e2c5dae5016": {
      "model_module": "@jupyter-widgets/controls",
      "model_module_version": "1.5.0",
      "model_name": "LabelModel",
      "state": {
       "layout": "IPY_MODEL_1862460ff6c84c7aad2aa84346163c2e",
       "style": "IPY_MODEL_db6d2f3c84c64a4cbbd1261477afa8ce",
       "value": "Number of nodes in cluster:"
      }
     },
     "1c8ae3872c3941538111533b3ec65d4a": {
      "model_module": "@jupyter-widgets/base",
      "model_module_version": "1.2.0",
      "model_name": "LayoutModel",
      "state": {}
     },
     "20b574b0bf2446d198cf7effa8d13891": {
      "model_module": "@jupyter-widgets/base",
      "model_module_version": "1.2.0",
      "model_name": "LayoutModel",
      "state": {
       "width": "auto"
      }
     },
     "21912f609e3c41e3b6b622f0cb42045b": {
      "model_module": "@jupyter-widgets/controls",
      "model_module_version": "1.5.0",
      "model_name": "DescriptionStyleModel",
      "state": {
       "description_width": ""
      }
     },
     "220ddc0ef0424dbea09052c1f0af6933": {
      "model_module": "@jupyter-widgets/controls",
      "model_module_version": "1.5.0",
      "model_name": "BoxModel",
      "state": {
       "children": [
        "IPY_MODEL_9c4930c920734bc6b4f73fa3cfdcffcd",
        "IPY_MODEL_0f04e340a5e44216b6d1fc852cbee80d"
       ],
       "layout": "IPY_MODEL_53e73b0247fb49b89922a64625829d62"
      }
     },
     "235ec19f802844fba6370b1cc5512dd2": {
      "model_module": "@jupyter-widgets/controls",
      "model_module_version": "1.5.0",
      "model_name": "LabelModel",
      "state": {
       "layout": "IPY_MODEL_def8bca9842043bd8c443d8d3aa550b7",
       "style": "IPY_MODEL_832c915c93e9459eb385576e716b4c8e",
       "value": "Number of cross validation folds:"
      }
     },
     "23c502124cd44091ac0c119aa0f2c308": {
      "model_module": "@jupyter-widgets/controls",
      "model_module_version": "1.5.0",
      "model_name": "DescriptionStyleModel",
      "state": {
       "description_width": ""
      }
     },
     "24310e8c009747b3bebc46ada047aa7c": {
      "model_module": "@jupyter-widgets/controls",
      "model_module_version": "1.5.0",
      "model_name": "BoxModel",
      "state": {
       "children": [
        "IPY_MODEL_653b649a9f6c47929c42b5b2680cc6bd"
       ],
       "layout": "IPY_MODEL_53e73b0247fb49b89922a64625829d62"
      }
     },
     "2a118b57889349d9a892c006a2483230": {
      "model_module": "@jupyter-widgets/controls",
      "model_module_version": "1.5.0",
      "model_name": "BoundedIntTextModel",
      "state": {
       "layout": "IPY_MODEL_13120af1900a4d1e8f26d34c23ca910a",
       "min": 1,
       "style": "IPY_MODEL_f6cdddd2d07f4cc982a12c3d9aeee58d",
       "value": 50
      }
     },
     "3372181478dc4df4b8252a02bfc50bb0": {
      "model_module": "@jupyter-widgets/base",
      "model_module_version": "1.2.0",
      "model_name": "LayoutModel",
      "state": {}
     },
     "39964df7013844b9bf4206186eef161f": {
      "model_module": "@jupyter-widgets/controls",
      "model_module_version": "1.5.0",
      "model_name": "DescriptionStyleModel",
      "state": {
       "description_width": ""
      }
     },
     "3a4e2d2cfc6c4978a5f0fa9c7a7489f9": {
      "model_module": "@jupyter-widgets/controls",
      "model_module_version": "1.5.0",
      "model_name": "DescriptionStyleModel",
      "state": {
       "description_width": ""
      }
     },
     "3f5d28d6b4c14ea88e753a8971902472": {
      "model_module": "@jupyter-widgets/controls",
      "model_module_version": "1.5.0",
      "model_name": "ButtonStyleModel",
      "state": {}
     },
     "410155ef07484a3b94dde1a9dadc458f": {
      "model_module": "@jupyter-widgets/controls",
      "model_module_version": "1.5.0",
      "model_name": "DescriptionStyleModel",
      "state": {
       "description_width": ""
      }
     },
     "482055cdad3a4ea9b968c835be949c9b": {
      "model_module": "@jupyter-widgets/base",
      "model_module_version": "1.2.0",
      "model_name": "LayoutModel",
      "state": {
       "width": "auto"
      }
     },
     "488acd51fb564375937da26228b3aa43": {
      "model_module": "@jupyter-widgets/controls",
      "model_module_version": "1.5.0",
      "model_name": "LabelModel",
      "state": {
       "layout": "IPY_MODEL_e3dddaacbf86408fa0c5543b633e53df",
       "style": "IPY_MODEL_3a4e2d2cfc6c4978a5f0fa9c7a7489f9",
       "value": "Maximum ensemble size:"
      }
     },
     "4ac6c70d80684f4690c31607da6cebfd": {
      "model_module": "@jupyter-widgets/base",
      "model_module_version": "1.2.0",
      "model_name": "LayoutModel",
      "state": {}
     },
     "4ced14dec11049ecbb7d03a6953ca417": {
      "model_module": "@jupyter-widgets/controls",
      "model_module_version": "1.5.0",
      "model_name": "BoxModel",
      "state": {
       "children": [
        "IPY_MODEL_24310e8c009747b3bebc46ada047aa7c",
        "IPY_MODEL_f496cb6c756c460a93d6f6ba7c29b935",
        "IPY_MODEL_220ddc0ef0424dbea09052c1f0af6933",
        "IPY_MODEL_a40c7186b29c4fd4881cadaaa838d029",
        "IPY_MODEL_b735b8d840ad47e78449f8cbc5b2dc44",
        "IPY_MODEL_5827e00abe12492eba90cdb012f45c60",
        "IPY_MODEL_0b6cd23c24ae42939d691ab87fdaf10e",
        "IPY_MODEL_f942d7856c514d8fa96ec6e14190c776",
        "IPY_MODEL_bfde3f7c516b44f5b04008d9d08e5512"
       ],
       "layout": "IPY_MODEL_68c3ce8caea84731ae40ad03af24ae34"
      }
     },
     "4f3246a838bf46ad8cec619fda73952f": {
      "model_module": "@jupyter-widgets/controls",
      "model_module_version": "1.5.0",
      "model_name": "IntSliderModel",
      "state": {
       "layout": "IPY_MODEL_3372181478dc4df4b8252a02bfc50bb0",
       "max": 10,
       "min": 2,
       "style": "IPY_MODEL_05cc21c67b534ec8a8e582bee4057706",
       "value": 3
      }
     },
     "51b12263ae7440529fe267c46c02a2d2": {
      "model_module": "@jupyter-widgets/controls",
      "model_module_version": "1.5.0",
      "model_name": "DescriptionStyleModel",
      "state": {
       "description_width": ""
      }
     },
     "5246bdcb5d324eb49bed3e8e77765da0": {
      "model_module": "@jupyter-widgets/controls",
      "model_module_version": "1.5.0",
      "model_name": "DescriptionStyleModel",
      "state": {
       "description_width": ""
      }
     },
     "53e73b0247fb49b89922a64625829d62": {
      "model_module": "@jupyter-widgets/base",
      "model_module_version": "1.2.0",
      "model_name": "LayoutModel",
      "state": {
       "display": "flex",
       "flex_flow": "row",
       "justify_content": "space-between"
      }
     },
     "56154519490947b099dc1fb5722afe26": {
      "model_module": "@jupyter-widgets/controls",
      "model_module_version": "1.5.0",
      "model_name": "FileUploadModel",
      "state": {
       "accept": ".csv",
       "description_tooltip": null,
       "layout": "IPY_MODEL_d7238728b7564fd08d64d3e1928e8bea",
       "style": "IPY_MODEL_3f5d28d6b4c14ea88e753a8971902472"
      }
     },
     "56d47569a277492180f54c8d320c2323": {
      "model_module": "@jupyter-widgets/controls",
      "model_module_version": "1.5.0",
      "model_name": "SelectMultipleModel",
      "state": {
       "_options_labels": [
        "Default",
        "Adaboost",
        "Bernoulli Naive Bayes",
        "Decision Tree",
        "Extra Trees",
        "Gaussian Naive Bayes",
        "Gradient Boosting",
        "K Nearest Neighbors",
        "LDA",
        "Linear SVC",
        "SVM SVC",
        "MLP",
        "Multinominal Naive Bayes",
        "Passive Aggressive",
        "QDA",
        "Random Forest",
        "SGD"
       ],
       "index": [
        0
       ],
       "layout": "IPY_MODEL_7261ff8c76f04bea869dc12376bdcce8",
       "rows": 5,
       "style": "IPY_MODEL_80568cf94b80478c9ba73ae30c5fabd3"
      }
     },
     "5827e00abe12492eba90cdb012f45c60": {
      "model_module": "@jupyter-widgets/controls",
      "model_module_version": "1.5.0",
      "model_name": "BoxModel",
      "state": {
       "children": [
        "IPY_MODEL_488acd51fb564375937da26228b3aa43",
        "IPY_MODEL_2a118b57889349d9a892c006a2483230"
       ],
       "layout": "IPY_MODEL_53e73b0247fb49b89922a64625829d62"
      }
     },
     "5917324779db4ad4a771a6b231b00019": {
      "model_module": "@jupyter-widgets/base",
      "model_module_version": "1.2.0",
      "model_name": "LayoutModel",
      "state": {}
     },
     "5ca0d556096d4cb6900edcd7e838d6d8": {
      "model_module": "@jupyter-widgets/base",
      "model_module_version": "1.2.0",
      "model_name": "LayoutModel",
      "state": {}
     },
     "6106ad1abc8640b59895e12afcc2dfbe": {
      "model_module": "@jupyter-widgets/base",
      "model_module_version": "1.2.0",
      "model_name": "LayoutModel",
      "state": {}
     },
     "636e607b133d48818cea781d369eaccb": {
      "model_module": "@jupyter-widgets/controls",
      "model_module_version": "1.5.0",
      "model_name": "ButtonStyleModel",
      "state": {}
     },
     "6523f93b7d8e4144a395d81a6bf30bd1": {
      "model_module": "@jupyter-widgets/output",
      "model_module_version": "1.0.0",
      "model_name": "OutputModel",
      "state": {
       "layout": "IPY_MODEL_10a3d1cd1c9d40aab7b66f8950463c4e"
      }
     },
     "653b649a9f6c47929c42b5b2680cc6bd": {
      "model_module": "@jupyter-widgets/controls",
      "model_module_version": "1.5.0",
      "model_name": "HTMLModel",
      "state": {
       "layout": "IPY_MODEL_f6e7b90654fa4eb49b3e7673ec69a60c",
       "style": "IPY_MODEL_16205c3ace5848c1be6b55efcd2d02d9",
       "value": "<b><font color=#f39c12>Import file and re-run cell</b>"
      }
     },
     "6814c85a9d6b4ea88c51fae057eb8186": {
      "model_module": "@jupyter-widgets/base",
      "model_module_version": "1.2.0",
      "model_name": "LayoutModel",
      "state": {}
     },
     "68c3ce8caea84731ae40ad03af24ae34": {
      "model_module": "@jupyter-widgets/base",
      "model_module_version": "1.2.0",
      "model_name": "LayoutModel",
      "state": {
       "align_items": "stretch",
       "display": "flex",
       "flex_flow": "column",
       "width": "100%"
      }
     },
     "6b91c90509bb4b7b92093eb1f800f8ad": {
      "model_module": "@jupyter-widgets/controls",
      "model_module_version": "1.5.0",
      "model_name": "ButtonModel",
      "state": {
       "description": "Start Training on Qarnot!",
       "layout": "IPY_MODEL_20b574b0bf2446d198cf7effa8d13891",
       "style": "IPY_MODEL_90a3808477844ee9b8dd768c5b647303"
      }
     },
     "6c6a451fff2f4f0c89c0ebe87b932d5c": {
      "model_module": "@jupyter-widgets/base",
      "model_module_version": "1.2.0",
      "model_name": "LayoutModel",
      "state": {}
     },
     "6e7050155a00454a95ed11e8c64d13a5": {
      "model_module": "@jupyter-widgets/controls",
      "model_module_version": "1.5.0",
      "model_name": "LabelModel",
      "state": {
       "layout": "IPY_MODEL_6814c85a9d6b4ea88c51fae057eb8186",
       "style": "IPY_MODEL_13a3a97795ff444b902e77284d37c66a",
       "value": "Include Estimators and Preprocessors:"
      }
     },
     "6f8a5476582c49aa985c9b8380c1ee97": {
      "model_module": "@jupyter-widgets/base",
      "model_module_version": "1.2.0",
      "model_name": "LayoutModel",
      "state": {}
     },
     "7261ff8c76f04bea869dc12376bdcce8": {
      "model_module": "@jupyter-widgets/base",
      "model_module_version": "1.2.0",
      "model_name": "LayoutModel",
      "state": {}
     },
     "766077fb6b8c462298655565baf2bf57": {
      "model_module": "@jupyter-widgets/controls",
      "model_module_version": "1.5.0",
      "model_name": "LabelModel",
      "state": {
       "layout": "IPY_MODEL_6f8a5476582c49aa985c9b8380c1ee97",
       "style": "IPY_MODEL_99d927e8001f4d5dbb3a3ccb7bdd8289",
       "value": "Ensemble nbest:"
      }
     },
     "80568cf94b80478c9ba73ae30c5fabd3": {
      "model_module": "@jupyter-widgets/controls",
      "model_module_version": "1.5.0",
      "model_name": "DescriptionStyleModel",
      "state": {
       "description_width": ""
      }
     },
     "832c915c93e9459eb385576e716b4c8e": {
      "model_module": "@jupyter-widgets/controls",
      "model_module_version": "1.5.0",
      "model_name": "DescriptionStyleModel",
      "state": {
       "description_width": ""
      }
     },
     "84251767fee049778c05b803aac2328a": {
      "model_module": "@jupyter-widgets/controls",
      "model_module_version": "1.5.0",
      "model_name": "BoundedIntTextModel",
      "state": {
       "layout": "IPY_MODEL_6c6a451fff2f4f0c89c0ebe87b932d5c",
       "style": "IPY_MODEL_51b12263ae7440529fe267c46c02a2d2",
       "value": 50
      }
     },
     "8566b3d961a94cdeb7667bd0bae0f77d": {
      "model_module": "@jupyter-widgets/controls",
      "model_module_version": "1.5.0",
      "model_name": "DescriptionStyleModel",
      "state": {
       "description_width": ""
      }
     },
     "894082e8fe994171a050955c9aa3a9e6": {
      "model_module": "@jupyter-widgets/controls",
      "model_module_version": "1.5.0",
      "model_name": "ButtonModel",
      "state": {
       "description": "Display outputs",
       "layout": "IPY_MODEL_482055cdad3a4ea9b968c835be949c9b",
       "style": "IPY_MODEL_636e607b133d48818cea781d369eaccb"
      }
     },
     "90a3808477844ee9b8dd768c5b647303": {
      "model_module": "@jupyter-widgets/controls",
      "model_module_version": "1.5.0",
      "model_name": "ButtonStyleModel",
      "state": {}
     },
     "9302ba758d8d49e2bfb96cf7f7a61b46": {
      "model_module": "@jupyter-widgets/base",
      "model_module_version": "1.2.0",
      "model_name": "LayoutModel",
      "state": {}
     },
     "99d927e8001f4d5dbb3a3ccb7bdd8289": {
      "model_module": "@jupyter-widgets/controls",
      "model_module_version": "1.5.0",
      "model_name": "DescriptionStyleModel",
      "state": {
       "description_width": ""
      }
     },
     "9bc5b44d86904ff1a6da309a0274dc4b": {
      "model_module": "@jupyter-widgets/controls",
      "model_module_version": "1.5.0",
      "model_name": "DescriptionStyleModel",
      "state": {
       "description_width": ""
      }
     },
     "9c4930c920734bc6b4f73fa3cfdcffcd": {
      "model_module": "@jupyter-widgets/controls",
      "model_module_version": "1.5.0",
      "model_name": "LabelModel",
      "state": {
       "layout": "IPY_MODEL_1c8ae3872c3941538111533b3ec65d4a",
       "style": "IPY_MODEL_23c502124cd44091ac0c119aa0f2c308",
       "value": "Total training time (min):"
      }
     },
     "9caffc91ac4f4b209c8b71b6ff5509b1": {
      "model_module": "@jupyter-widgets/controls",
      "model_module_version": "1.5.0",
      "model_name": "BoundedIntTextModel",
      "state": {
       "layout": "IPY_MODEL_5ca0d556096d4cb6900edcd7e838d6d8",
       "style": "IPY_MODEL_af383b99c1cf46dca66f99cf42853840",
       "value": 5
      }
     },
     "9e4381488f96452a88dc7df276c56133": {
      "model_module": "@jupyter-widgets/controls",
      "model_module_version": "1.5.0",
      "model_name": "SelectMultipleModel",
      "state": {
       "_options_labels": [
        "Default",
        "Balancing",
        "Extra Trees",
        "Fast ICA",
        "Feature Agglomeration",
        "Kernel PCA",
        "Kitchen Sinks",
        "Linear SVM preprocessor",
        "No Preporcessing",
        "Nystroem Sampler",
        "One Hot Encoding",
        "PCA",
        "Polynomial",
        "Random Trees Embedding",
        "Select Percentile",
        "Select Rates"
       ],
       "index": [
        0
       ],
       "layout": "IPY_MODEL_5917324779db4ad4a771a6b231b00019",
       "rows": 5,
       "style": "IPY_MODEL_39964df7013844b9bf4206186eef161f"
      }
     },
     "a0785c16ed0e48e8b2d87e23ee0f1ebd": {
      "model_module": "@jupyter-widgets/controls",
      "model_module_version": "1.5.0",
      "model_name": "SliderStyleModel",
      "state": {
       "description_width": ""
      }
     },
     "a40c7186b29c4fd4881cadaaa838d029": {
      "model_module": "@jupyter-widgets/controls",
      "model_module_version": "1.5.0",
      "model_name": "BoxModel",
      "state": {
       "children": [
        "IPY_MODEL_acc1f0e83e944c66a2ce6d867fb1e032",
        "IPY_MODEL_9caffc91ac4f4b209c8b71b6ff5509b1"
       ],
       "layout": "IPY_MODEL_53e73b0247fb49b89922a64625829d62"
      }
     },
     "a41646b62bea484599a506e3193a14fe": {
      "model_module": "@jupyter-widgets/base",
      "model_module_version": "1.2.0",
      "model_name": "LayoutModel",
      "state": {}
     },
     "acc1f0e83e944c66a2ce6d867fb1e032": {
      "model_module": "@jupyter-widgets/controls",
      "model_module_version": "1.5.0",
      "model_name": "LabelModel",
      "state": {
       "layout": "IPY_MODEL_a41646b62bea484599a506e3193a14fe",
       "style": "IPY_MODEL_5246bdcb5d324eb49bed3e8e77765da0",
       "value": "Per run training time (min):"
      }
     },
     "af383b99c1cf46dca66f99cf42853840": {
      "model_module": "@jupyter-widgets/controls",
      "model_module_version": "1.5.0",
      "model_name": "DescriptionStyleModel",
      "state": {
       "description_width": ""
      }
     },
     "b735b8d840ad47e78449f8cbc5b2dc44": {
      "model_module": "@jupyter-widgets/controls",
      "model_module_version": "1.5.0",
      "model_name": "BoxModel",
      "state": {
       "children": [
        "IPY_MODEL_235ec19f802844fba6370b1cc5512dd2",
        "IPY_MODEL_4f3246a838bf46ad8cec619fda73952f"
       ],
       "layout": "IPY_MODEL_53e73b0247fb49b89922a64625829d62"
      }
     },
     "bfde3f7c516b44f5b04008d9d08e5512": {
      "model_module": "@jupyter-widgets/controls",
      "model_module_version": "1.5.0",
      "model_name": "BoxModel",
      "state": {
       "children": [
        "IPY_MODEL_1778a2abf7384830b2a04d75af58011a",
        "IPY_MODEL_f7bd2a9112e24509af1aa54dde83ce0a",
        "IPY_MODEL_f2487c5bd01e45f4b12b3f8bd0ead59a"
       ],
       "layout": "IPY_MODEL_53e73b0247fb49b89922a64625829d62"
      }
     },
     "d31b0d9f4a5a452f889c935527e60b42": {
      "model_module": "@jupyter-widgets/base",
      "model_module_version": "1.2.0",
      "model_name": "LayoutModel",
      "state": {}
     },
     "d7238728b7564fd08d64d3e1928e8bea": {
      "model_module": "@jupyter-widgets/base",
      "model_module_version": "1.2.0",
      "model_name": "LayoutModel",
      "state": {}
     },
     "d77f09cf5edc4d88848fe8c6000b19c1": {
      "model_module": "@jupyter-widgets/output",
      "model_module_version": "1.0.0",
      "model_name": "OutputModel",
      "state": {
       "layout": "IPY_MODEL_1285b601bec54838b07e81344c872063"
      }
     },
     "d81e48f5c63c4cb7ab782b8ff290e344": {
      "model_module": "@jupyter-widgets/controls",
      "model_module_version": "1.5.0",
      "model_name": "DescriptionStyleModel",
      "state": {
       "description_width": ""
      }
     },
     "db6d2f3c84c64a4cbbd1261477afa8ce": {
      "model_module": "@jupyter-widgets/controls",
      "model_module_version": "1.5.0",
      "model_name": "DescriptionStyleModel",
      "state": {
       "description_width": ""
      }
     },
     "def8bca9842043bd8c443d8d3aa550b7": {
      "model_module": "@jupyter-widgets/base",
      "model_module_version": "1.2.0",
      "model_name": "LayoutModel",
      "state": {}
     },
     "e1049dbf934d41c0a1fa43720853d543": {
      "model_module": "@jupyter-widgets/base",
      "model_module_version": "1.2.0",
      "model_name": "LayoutModel",
      "state": {}
     },
     "e3dddaacbf86408fa0c5543b633e53df": {
      "model_module": "@jupyter-widgets/base",
      "model_module_version": "1.2.0",
      "model_name": "LayoutModel",
      "state": {}
     },
     "e427b6960eb143df8f8c7b9a116289d8": {
      "model_module": "@jupyter-widgets/controls",
      "model_module_version": "1.5.0",
      "model_name": "IntSliderModel",
      "state": {
       "layout": "IPY_MODEL_e1049dbf934d41c0a1fa43720853d543",
       "max": 20,
       "min": 2,
       "style": "IPY_MODEL_a0785c16ed0e48e8b2d87e23ee0f1ebd",
       "value": 3
      }
     },
     "e7b571eba7e04b04b5adfe1bbca112f6": {
      "model_module": "@jupyter-widgets/base",
      "model_module_version": "1.2.0",
      "model_name": "LayoutModel",
      "state": {}
     },
     "f2487c5bd01e45f4b12b3f8bd0ead59a": {
      "model_module": "@jupyter-widgets/controls",
      "model_module_version": "1.5.0",
      "model_name": "SelectMultipleModel",
      "state": {
       "_options_labels": [
        "Default",
        "Balancing",
        "Extra Trees",
        "Fast ICA",
        "Feature Agglomeration",
        "Kernel PCA",
        "Kitchen Sinks",
        "Linear SVM preprocessor",
        "No Preporcessing",
        "Nystroem Sampler",
        "One Hot Encoding",
        "PCA",
        "Polynomial",
        "Random Trees Embedding",
        "Select Percentile",
        "Select Rates"
       ],
       "index": [
        0
       ],
       "layout": "IPY_MODEL_e7b571eba7e04b04b5adfe1bbca112f6",
       "rows": 5,
       "style": "IPY_MODEL_410155ef07484a3b94dde1a9dadc458f"
      }
     },
     "f496cb6c756c460a93d6f6ba7c29b935": {
      "model_module": "@jupyter-widgets/controls",
      "model_module_version": "1.5.0",
      "model_name": "BoxModel",
      "state": {
       "children": [
        "IPY_MODEL_1a71b412fe8b497aa2e02e2c5dae5016",
        "IPY_MODEL_e427b6960eb143df8f8c7b9a116289d8"
       ],
       "layout": "IPY_MODEL_53e73b0247fb49b89922a64625829d62"
      }
     },
     "f6cdddd2d07f4cc982a12c3d9aeee58d": {
      "model_module": "@jupyter-widgets/controls",
      "model_module_version": "1.5.0",
      "model_name": "DescriptionStyleModel",
      "state": {
       "description_width": ""
      }
     },
     "f6e7b90654fa4eb49b3e7673ec69a60c": {
      "model_module": "@jupyter-widgets/base",
      "model_module_version": "1.2.0",
      "model_name": "LayoutModel",
      "state": {}
     },
     "f7bd2a9112e24509af1aa54dde83ce0a": {
      "model_module": "@jupyter-widgets/controls",
      "model_module_version": "1.5.0",
      "model_name": "SelectMultipleModel",
      "state": {
       "_options_labels": [
        "Default",
        "Adaboost",
        "Bernoulli Naive Bayes",
        "Decision Tree",
        "Extra Trees",
        "Gaussian Naive Bayes",
        "Gradient Boosting",
        "K Nearest Neighbors",
        "LDA",
        "Linear SVC",
        "SVM SVC",
        "MLP",
        "Multinominal Naive Bayes",
        "Passive Aggressive",
        "QDA",
        "Random Forest",
        "SGD"
       ],
       "index": [
        0
       ],
       "layout": "IPY_MODEL_9302ba758d8d49e2bfb96cf7f7a61b46",
       "rows": 5,
       "style": "IPY_MODEL_d81e48f5c63c4cb7ab782b8ff290e344"
      }
     },
     "f942d7856c514d8fa96ec6e14190c776": {
      "model_module": "@jupyter-widgets/controls",
      "model_module_version": "1.5.0",
      "model_name": "BoxModel",
      "state": {
       "children": [
        "IPY_MODEL_6e7050155a00454a95ed11e8c64d13a5",
        "IPY_MODEL_56d47569a277492180f54c8d320c2323",
        "IPY_MODEL_9e4381488f96452a88dc7df276c56133"
       ],
       "layout": "IPY_MODEL_53e73b0247fb49b89922a64625829d62"
      }
     }
    },
    "version_major": 2,
    "version_minor": 0
   }
  }
 },
 "nbformat": 4,
 "nbformat_minor": 5
}
